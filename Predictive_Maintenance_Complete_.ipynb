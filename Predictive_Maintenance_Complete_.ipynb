{
 "cells": [
  {
   "cell_type": "markdown",
   "id": "9f554d58",
   "metadata": {},
   "source": [
    "# Predictive Maintenance - Complete ML Pipeline\n",
    "This notebook covers EDA, preprocessing, feature engineering, model training, and evaluation for the Predictive Maintenance dataset."
   ]
  },
  {
   "cell_type": "code",
   "execution_count": null,
   "id": "02b33801",
   "metadata": {},
   "outputs": [],
   "source": [
    "# Import necessary libraries\n",
    "import pandas as pd\n",
    "import numpy as np\n",
    "import seaborn as sns\n",
    "import matplotlib.pyplot as plt\n",
    "\n",
    "from sklearn.model_selection import train_test_split, cross_val_score\n",
    "from sklearn.preprocessing import LabelEncoder, StandardScaler\n",
    "from sklearn.ensemble import RandomForestClassifier, GradientBoostingClassifier\n",
    "from sklearn.linear_model import LogisticRegression\n",
    "from sklearn.metrics import classification_report, confusion_matrix, ConfusionMatrixDisplay\n",
    "\n",
    "import warnings\n",
    "warnings.filterwarnings('ignore')"
   ]
  },
  {
   "cell_type": "code",
   "execution_count": null,
   "id": "76d5a39f",
   "metadata": {},
   "outputs": [],
   "source": [
    "# Load the dataset\n",
    "df = pd.read_csv('predictive_maintenance.csv')\n",
    "df.head()"
   ]
  },
  {
   "cell_type": "code",
   "execution_count": null,
   "id": "6bedc451",
   "metadata": {},
   "outputs": [],
   "source": [
    "# Basic Info\n",
    "df.info()\n",
    "df.describe()"
   ]
  },
  {
   "cell_type": "code",
   "execution_count": null,
   "id": "497e5138",
   "metadata": {},
   "outputs": [],
   "source": [
    "# Check for missing values\n",
    "df.isnull().sum()"
   ]
  },
  {
   "cell_type": "code",
   "execution_count": null,
   "id": "be4cb6fd",
   "metadata": {},
   "outputs": [],
   "source": [
    "# Visualize target variable\n",
    "sns.countplot(data=df, x='Failure Type')\n",
    "plt.title('Distribution of Failure Types')\n",
    "plt.xticks(rotation=45)\n",
    "plt.show()"
   ]
  },
  {
   "cell_type": "code",
   "execution_count": null,
   "id": "e6098c55",
   "metadata": {},
   "outputs": [],
   "source": [
    "# Drop UDI, encode labels\n",
    "df.drop(columns=['UDI'], inplace=True)\n",
    "le = LabelEncoder()\n",
    "df['Product ID'] = le.fit_transform(df['Product ID'])\n",
    "df['Type'] = le.fit_transform(df['Type'])\n",
    "df['Failure Type'] = df['Failure Type'].replace('No Failure', 'No_Failure')"
   ]
  },
  {
   "cell_type": "code",
   "execution_count": null,
   "id": "cf53cf2e",
   "metadata": {},
   "outputs": [],
   "source": [
    "# Split features and target\n",
    "X = df.drop('Failure Type', axis=1)\n",
    "y = df['Failure Type']\n",
    "\n",
    "# Train-test split\n",
    "X_train, X_test, y_train, y_test = train_test_split(X, y, stratify=y, test_size=0.2, random_state=42)"
   ]
  },
  {
   "cell_type": "code",
   "execution_count": null,
   "id": "41294015",
   "metadata": {},
   "outputs": [],
   "source": [
    "# Feature scaling\n",
    "scaler = StandardScaler()\n",
    "X_train_scaled = scaler.fit_transform(X_train)\n",
    "X_test_scaled = scaler.transform(X_test)"
   ]
  },
  {
   "cell_type": "code",
   "execution_count": null,
   "id": "e79d3789",
   "metadata": {},
   "outputs": [],
   "source": [
    "# Try multiple models\n",
    "models = {\n",
    "    'Random Forest': RandomForestClassifier(),\n",
    "    'Gradient Boosting': GradientBoostingClassifier(),\n",
    "    'Logistic Regression': LogisticRegression(max_iter=500)\n",
    "}\n",
    "\n",
    "for name, model in models.items():\n",
    "    score = cross_val_score(model, X_train_scaled, y_train, cv=5, scoring='accuracy').mean()\n",
    "    print(f\"{name}: {score:.4f}\")"
   ]
  },
  {
   "cell_type": "code",
   "execution_count": null,
   "id": "faa4d0e3",
   "metadata": {},
   "outputs": [],
   "source": [
    "# Train best model\n",
    "best_model = RandomForestClassifier()\n",
    "best_model.fit(X_train_scaled, y_train)\n",
    "y_pred = best_model.predict(X_test_scaled)\n",
    "print(classification_report(y_test, y_pred))"
   ]
  },
  {
   "cell_type": "code",
   "execution_count": null,
   "id": "1f633d63",
   "metadata": {},
   "outputs": [],
   "source": [
    "# Confusion matrix\n",
    "cm = confusion_matrix(y_test, y_pred, labels=best_model.classes_)\n",
    "disp = ConfusionMatrixDisplay(confusion_matrix=cm, display_labels=best_model.classes_)\n",
    "disp.plot(xticks_rotation=45)\n",
    "plt.title(\"Confusion Matrix\")\n",
    "plt.show()"
   ]
  },
  {
   "cell_type": "code",
   "execution_count": null,
   "id": "0b602f11",
   "metadata": {},
   "outputs": [],
   "source": [
    "# Feature importance\n",
    "importances = pd.Series(best_model.feature_importances_, index=X.columns)\n",
    "importances.sort_values(ascending=False).plot(kind='bar')\n",
    "plt.title(\"Feature Importance\")\n",
    "plt.show()"
   ]
  }
 ],
 "metadata": {},
 "nbformat": 4,
 "nbformat_minor": 5
}
